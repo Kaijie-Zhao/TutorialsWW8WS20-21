{
 "cells": [
  {
   "cell_type": "markdown",
   "metadata": {},
   "source": [
    "# Exercise 0a: Elementary Program Strcutures in Python - Part I"
   ]
  },
  {
   "cell_type": "code",
   "execution_count": null,
   "metadata": {},
   "outputs": [],
   "source": [
    "import numpy as np    # import the numerical python module\n",
    "import matplotlib.pyplot as plt # import the standard plotting module"
   ]
  },
  {
   "cell_type": "markdown",
   "metadata": {},
   "source": [
    "In this first notebook an overview over the most important commands and data structures ist given, which are necessary for future exercises.\n",
    "\n",
    "For those already proficient in Python, this offers not much challenge. Some more profound insight you can get with the following links:\n",
    "\n",
    "![Python Logo](https://www.python.org/static/community_logos/python-logo-master-v3-TM.png)\n",
    "\n",
    "\n",
    "## Some useful references and links"
   ]
  },
  {
   "cell_type": "markdown",
   "metadata": {},
   "source": [
    "### Introduction to Python\n",
    "- Jörg Frochte: *Maschinelles Lernen*, Hanser 2018, Kap. 3 (in German)<br>\n",
    "https://www.hanser-elibrary.com/doi/pdf/10.3139/9783446457058.003\n",
    "\n",
    "- ReadTheDocs-Tutorial *Python101*, Ab Kap. 'Python' <br>\n",
    "https://scientific-python-101.readthedocs.io/\n",
    "\n",
    "### Infos for Jupyter Notebooks\n",
    "- Description of cells in notebooks, and how to create special displays with **Markdown** (in German)\n",
    "http://python.hs-augsburg.de:8888/notebooks/DuR/Hinweise%20und%20Anmerkungen%20zu%20Jupyter%20Notebooks.ipynb\n",
    "- ReadTheDocs *Jupyter Notebook* (more information on how to create content),<br>\n",
    "http://jupyter-notebook.readthedocs.io/en/stable/index.html"
   ]
  },
  {
   "cell_type": "markdown",
   "metadata": {},
   "source": [
    "## Python as calculator"
   ]
  },
  {
   "cell_type": "markdown",
   "metadata": {},
   "source": [
    "Python is an interpreted language, i.e. there is no intermediate step for compilation necessary. Commands can simply be started from the command line (code cells in Jupyter).\n",
    "\n",
    "On the command line (e.g. in the normal Python or IPython shell) one can use Python like a calculator\n",
    "\n",
    "**Attention:** Under Jupyter commands are executed after pressing `shift` + `return`!"
   ]
  },
  {
   "cell_type": "code",
   "execution_count": null,
   "metadata": {},
   "outputs": [],
   "source": [
    "2+2"
   ]
  },
  {
   "cell_type": "code",
   "execution_count": null,
   "metadata": {},
   "outputs": [],
   "source": [
    "(50-5*6)/4"
   ]
  },
  {
   "cell_type": "code",
   "execution_count": null,
   "metadata": {},
   "outputs": [],
   "source": [
    "7*3"
   ]
  },
  {
   "cell_type": "code",
   "execution_count": null,
   "metadata": {},
   "outputs": [],
   "source": [
    "7/3"
   ]
  },
  {
   "cell_type": "markdown",
   "metadata": {},
   "source": [
    "As in every programming language Python includes number as integer (`int`) und floating point types (`float`).\n",
    "In Python 3 a division result using the 'normal' operator / will be treated as float type!\n",
    "\n",
    "Integer Division:"
   ]
  },
  {
   "cell_type": "code",
   "execution_count": null,
   "metadata": {},
   "outputs": [],
   "source": [
    "int(7/3) # Float division and conversion to integer (by int(...))"
   ]
  },
  {
   "cell_type": "code",
   "execution_count": null,
   "metadata": {},
   "outputs": [],
   "source": [
    "7//3 # Integer division operator"
   ]
  },
  {
   "cell_type": "code",
   "execution_count": null,
   "metadata": {},
   "outputs": [],
   "source": []
  },
  {
   "cell_type": "markdown",
   "metadata": {},
   "source": [
    "## Mathematical functions / Import of modules"
   ]
  },
  {
   "cell_type": "markdown",
   "metadata": {},
   "source": [
    "The following are the most important Python modules (= program libraries) that we need<br>\n",
    "[NumPy](http://www.numpy.org/)<br>\n",
    "[SciPy](https://www.scipy.org/)<br>\n",
    "[Matplotlib](https://matplotlib.org/)<br>\n",
    "\n",
    "#### The Python software stack\n",
    "<img src=\"./softwareStack.png\" width=\"400\">\n",
    "\n",
    "In the following we always import the module `NumPy`. It contains important numerical methods and data structures, e.g. the mathematical functions, that can alternatively be imported from the  `math` module."
   ]
  },
  {
   "cell_type": "markdown",
   "metadata": {},
   "source": [
    "#### Different mathematical operations\n",
    "| Operation | Syntax | Function |\n",
    "| --- | --- | --- |\n",
    "| Addition | a + b | add(a, b) |\n",
    "| Subtraction | a - b | sub(a, b) |\n",
    "| Division | a / b | truediv(a, b) |\n",
    "| Division | a // b | floordiv(a, b) |\n",
    "| Exponentiation | a ** b | pow(a, b) |\n",
    "| Modulo | a % b | mod(a, b) |\n",
    "| Multiplication | a * b | mul(a, b) |\n",
    "| Matrix Multiplication | a @ b | matmul(a, b) |\n",
    "| Negation (Arithmetic) | - a | neg(a) |\n",
    "\n",
    "#### Boolean operations\n",
    "| Operation | Syntax | Function |\n",
    "| --- | --- | --- |\n",
    "| Identity | a is b | is_(a, b) |\n",
    "| Identity | a is not b | is_not(a, b) |\n",
    "| Negation (Logical) | not a | not_(a) |\n",
    "| Positive | + a | pos(a) |\n",
    "| Truth Test | obj | truth(obj) |\n",
    "| Ordering | a < b | lt(a, b) |\n",
    "| Ordering | a <= b | le(a, b) |\n",
    "| Equality | a == b | eq(a, b) |\n",
    "| Difference | a != b | ne(a, b) |\n",
    "| Ordering | a >= b | ge(a, b) |\n",
    "| Ordering | a > b | gt(a, b) |\n",
    "\n",
    "#### Bit operations\n",
    "| Operation | Syntax | Function |\n",
    "| --- | --- | --- |\n",
    "| Bitwise And | a & b | and_(a, b) |\n",
    "| Bitwise Exclusive Or | a ^ b | xor(a, b) |\n",
    "| Bitwise Inversion | ~ a | invert(a) |\n",
    "| Bitwise Or | a &#x7c; b | or_(a, b) |\n",
    "| Left Shift | a << b | lshift(a, b) |\n",
    "| Right Shift | a >> b | rshift(a, b) |\n",
    "\n",
    "#### Operations with arrays/lists\n",
    "| Operation | Syntax | Function |\n",
    "| --- | --- | --- |\n",
    "| Indexed Assignment | obj[k] = v | setitem(obj, k, v) |\n",
    "| Indexed Deletion | del obj[k] | delitem(obj, k) |\n",
    "| Indexing | obj[k] | getitem(obj, k) |\n",
    "| Slice Assignment | seq[i:j] = values | setitem(seq, slice(i, j), values) |\n",
    "| Slice Deletion | del seq[i:j] | delitem(seq, slice(i, j)) |\n",
    "| Slicing | seq[i:j] | getitem(seq, slice(i, j)) |\n",
    "| Containment Test | obj in seq | contains(seq, obj) |\n",
    "\n",
    "#### String operations\n",
    "| Operation | Syntax | Function |\n",
    "| --- | --- | --- |\n",
    "| String Formatting | s % obj | mod(s, obj) |\n",
    "| Concatenation | seq1 + seq2 | concat(seq1, seq2) |"
   ]
  },
  {
   "cell_type": "markdown",
   "metadata": {},
   "source": [
    "### <font color='blue'>Excursion: Markdown</font>\n",
    "\n",
    "With the Jupyter Notebook you are able to document a session with paragraphs like this one or the table given above. This is called 'Markdown'.\n",
    "Every code cell can be changed into markdown by selecting Cell$\\to$Cell Type$\\to$Markdown in the Jupyter menue above.\n",
    "Please double click on this cell to see the mardown code!\n",
    "\n",
    "\n",
    "Accenting: **Bold**\n",
    "\n",
    "Code inline: `for i in range(10)`\n",
    "\n",
    "Code listing with syntax highlighting:\n",
    "```Python\n",
    "from math import pi\n",
    "print(pi)\n",
    "```\n",
    "\n",
    "By the way, you can also include formulae in Jupyter Notebooks using $\\LaTeX$ type setting. Here you see it in the same line:\n",
    "$\\frac{(x+1)\\sqrt{1+tan(x)^2}}{cos(2\\pi x)sin(2\\pi x) - \\delta \\ln(x^{4/3})}$\n",
    "\n",
    "or as individual paragraph\n",
    "\n",
    "\\begin{align}\n",
    "\\dot{x} & = \\sigma(y-x) \\\\\n",
    "\\dot{y} & = \\rho x - y - xz \\\\\n",
    "\\dot{z} & = -\\beta z + xy\n",
    "\\end{align}"
   ]
  },
  {
   "cell_type": "markdown",
   "metadata": {},
   "source": [
    "## Import of modules\n",
    "\n",
    "How can we access the needed extension modules in Python?\n",
    "We have to import them using the `import` command. For this, two different way are possible:\n",
    "\n",
    "\n",
    "#### 1st Method: Only import the desired methods"
   ]
  },
  {
   "cell_type": "code",
   "execution_count": 1,
   "metadata": {},
   "outputs": [],
   "source": [
    "from numpy import sqrt\n",
    "#from math import sqrt\n",
    "#   would do  the same, as numpy includes the library 'math' already"
   ]
  },
  {
   "cell_type": "code",
   "execution_count": 2,
   "metadata": {},
   "outputs": [
    {
     "data": {
      "text/plain": [
       "9.0"
      ]
     },
     "execution_count": 2,
     "metadata": {},
     "output_type": "execute_result"
    }
   ],
   "source": [
    "sqrt(81) # Now you can address the square root directly as sqrt()"
   ]
  },
  {
   "cell_type": "code",
   "execution_count": 3,
   "metadata": {},
   "outputs": [
    {
     "data": {
      "text/plain": [
       "2.718281828459045"
      ]
     },
     "execution_count": 3,
     "metadata": {},
     "output_type": "execute_result"
    }
   ],
   "source": [
    "from numpy import exp, sin, tan\n",
    "exp(1)"
   ]
  },
  {
   "cell_type": "markdown",
   "metadata": {},
   "source": [
    "\n",
    "\n"
   ]
  },
  {
   "cell_type": "markdown",
   "metadata": {},
   "source": [
    "#### 2nd Method: Import everything"
   ]
  },
  {
   "cell_type": "markdown",
   "metadata": {},
   "source": [
    "Here, an own namespace is created, so that all objects have to be adressed by `numpy.obj()`. Existing objects with identical name `obj()` will not be overwritten."
   ]
  },
  {
   "cell_type": "code",
   "execution_count": 4,
   "metadata": {},
   "outputs": [],
   "source": [
    "import numpy # Now you have to address the method (sqrt) as follows: modulename.method()"
   ]
  },
  {
   "cell_type": "code",
   "execution_count": 5,
   "metadata": {},
   "outputs": [
    {
     "data": {
      "text/plain": [
       "9.0"
      ]
     },
     "execution_count": 5,
     "metadata": {},
     "output_type": "execute_result"
    }
   ],
   "source": [
    "numpy.sqrt(81)\n",
    "#sqrt(81)"
   ]
  },
  {
   "cell_type": "markdown",
   "metadata": {},
   "source": [
    "#### 3rd Method: Import everything and give a new name"
   ]
  },
  {
   "cell_type": "markdown",
   "metadata": {},
   "source": [
    "This is the conventional way, and is also recommended here. `np.` is an abbreviation for the module name."
   ]
  },
  {
   "cell_type": "code",
   "execution_count": 6,
   "metadata": {},
   "outputs": [],
   "source": [
    "import numpy as np # the modul name (numpy) is now abbreviated by np"
   ]
  },
  {
   "cell_type": "code",
   "execution_count": 7,
   "metadata": {},
   "outputs": [
    {
     "data": {
      "text/plain": [
       "9.0"
      ]
     },
     "execution_count": 7,
     "metadata": {},
     "output_type": "execute_result"
    }
   ],
   "source": [
    "np.sqrt(81)"
   ]
  },
  {
   "cell_type": "markdown",
   "metadata": {},
   "source": [
    "**Informations on the module `math`**\n",
    "\n",
    "Listing of all methods: `dir(math)`\n",
    "\n",
    "Description of each method: `help(math)`\n",
    "\n",
    "resp. detailed info on a method: `np.info()`\n",
    "\n",
    "    import numpy as np\n",
    "    np.info(np.sqrt)\n",
    "    \n",
    "    import matplotlib.pyplot as plt\n",
    "    np.info(plt.plot)"
   ]
  },
  {
   "cell_type": "code",
   "execution_count": 9,
   "metadata": {},
   "outputs": [],
   "source": [
    "import math\n",
    "#np.info(np.sqrt)"
   ]
  },
  {
   "cell_type": "code",
   "execution_count": 10,
   "metadata": {},
   "outputs": [
    {
     "data": {
      "text/plain": [
       "['__doc__',\n",
       " '__file__',\n",
       " '__loader__',\n",
       " '__name__',\n",
       " '__package__',\n",
       " '__spec__',\n",
       " 'acos',\n",
       " 'acosh',\n",
       " 'asin',\n",
       " 'asinh',\n",
       " 'atan',\n",
       " 'atan2',\n",
       " 'atanh',\n",
       " 'ceil',\n",
       " 'comb',\n",
       " 'copysign',\n",
       " 'cos',\n",
       " 'cosh',\n",
       " 'degrees',\n",
       " 'dist',\n",
       " 'e',\n",
       " 'erf',\n",
       " 'erfc',\n",
       " 'exp',\n",
       " 'expm1',\n",
       " 'fabs',\n",
       " 'factorial',\n",
       " 'floor',\n",
       " 'fmod',\n",
       " 'frexp',\n",
       " 'fsum',\n",
       " 'gamma',\n",
       " 'gcd',\n",
       " 'hypot',\n",
       " 'inf',\n",
       " 'isclose',\n",
       " 'isfinite',\n",
       " 'isinf',\n",
       " 'isnan',\n",
       " 'isqrt',\n",
       " 'ldexp',\n",
       " 'lgamma',\n",
       " 'log',\n",
       " 'log10',\n",
       " 'log1p',\n",
       " 'log2',\n",
       " 'modf',\n",
       " 'nan',\n",
       " 'perm',\n",
       " 'pi',\n",
       " 'pow',\n",
       " 'prod',\n",
       " 'radians',\n",
       " 'remainder',\n",
       " 'sin',\n",
       " 'sinh',\n",
       " 'sqrt',\n",
       " 'tan',\n",
       " 'tanh',\n",
       " 'tau',\n",
       " 'trunc']"
      ]
     },
     "execution_count": 10,
     "metadata": {},
     "output_type": "execute_result"
    }
   ],
   "source": [
    "dir(math)"
   ]
  },
  {
   "cell_type": "markdown",
   "metadata": {},
   "source": [
    "### <font color='red'>TASK</font>: Import of constants\n",
    "In the module `math` the number $\\pi$ is saved under the name `pi`. If you just import `math`, it has to be addressed via `numpy.pi`. How can you accomplish to access it via `pi` directly?"
   ]
  },
  {
   "cell_type": "code",
   "execution_count": 11,
   "metadata": {},
   "outputs": [],
   "source": [
    "from math import pi"
   ]
  },
  {
   "cell_type": "code",
   "execution_count": 12,
   "metadata": {},
   "outputs": [
    {
     "data": {
      "text/plain": [
       "3.141592653589793"
      ]
     },
     "execution_count": 12,
     "metadata": {},
     "output_type": "execute_result"
    }
   ],
   "source": [
    "pi"
   ]
  },
  {
   "cell_type": "markdown",
   "metadata": {},
   "source": [
    "## Modules, funktions and the command line\n",
    "\n",
    "Python modules are a collection of methods, that all belong to a specific application area. The methods are defined by their function name, parameters names (in parentheses) and the program code following after a colon. Here is an example that converts degree Celsius into Fahrenheit:"
   ]
  },
  {
   "cell_type": "markdown",
   "metadata": {},
   "source": [
    "```python\n",
    "def convertF(TC):\n",
    "\t\"\"\"\n",
    "\tA function definition: Converts from Centigrade to Fahrenheit\n",
    "\tTC: temperature in Centrigrade\n",
    "\tTF: temperature in Fahrenheit\n",
    "\t\"\"\"\n",
    "\tTF = 9.0/5.0*TC + 32.0\n",
    "\treturn TF # the return value\n",
    "```\n",
    "\n",
    "Three quotation marks ``` comprise a short description, as an example for a comment: The surrounded text will not be executed. A short comment at the end of a line begins with the hashtag symbol `#`: the rest of the line is then ignored.\n",
    "\n",
    "The executable code of function `convertF()` follows behind the colon as a block. In Python a block is characterized by its indentation depth: All code lines with the same indentation (here: 4 empty spaces) belong to the same program block."
   ]
  },
  {
   "cell_type": "markdown",
   "metadata": {},
   "source": [
    "### <font color='red'>TASK</font>: Functions I\n",
    "\n",
    "Define the function `convertF()` by copying it in the Jupyter cell here below, and calculate the degree Fahrenheit for 100 °C!"
   ]
  },
  {
   "cell_type": "code",
   "execution_count": 13,
   "metadata": {},
   "outputs": [],
   "source": [
    "def convertF(TC):\n",
    "    \"\"\"\n",
    "    A function definition: Converts from Centigrade to Fahrenheit\n",
    "    TC: temperature in Centrigrade\n",
    "    TF: temperature in Fahrenheit\n",
    "    \"\"\"\n",
    "    TF = 9.0/5.0*TC + 32.0\n",
    "    return TF # the return value"
   ]
  },
  {
   "cell_type": "markdown",
   "metadata": {},
   "source": [
    ">Instead of a Jupyter notebook (like this here) you can also start a command line, e.g. with the Anaconda Navigator ($\\to$ Qt Console). All commands can also be executed there (after entering just press `return`).\n",
    "A python program would be started in the QT Console (which is an iPython session) via `run program.py`. On the other hand, when you want to start it from a normal shell like bash under Linux, you would type `python3 program.py`.\n",
    "\n",
    ">You can also try to use the Spyder environment (reachable via Anaconda Navigator) which offers a more comfortable interface similar to MATLAB."
   ]
  },
  {
   "cell_type": "markdown",
   "metadata": {},
   "source": [
    "### <font color='red'>TASK</font>: Functions II\n",
    "\n",
    "As an example for a 'home-brewn' module the file `temperature.py` is included in the exercise archive, which includes the function defined above. Use a text editor and extend the file wit the inverse function `convertC()`, which converts Fahrenheit to Celsius. Doing so, the small Python module `temperature` including the two methods is established.\n",
    "\n",
    "1. Import both functions from the module, so that you can call them by their name, like before (`convertF(100)` ... ).\n",
    "\n",
    "2. Try the same directly from a command line (Anaconda Navigator ($\\to$ Qt Console) )."
   ]
  },
  {
   "cell_type": "code",
   "execution_count": 23,
   "metadata": {},
   "outputs": [
    {
     "data": {
      "text/plain": [
       "5.0"
      ]
     },
     "execution_count": 23,
     "metadata": {},
     "output_type": "execute_result"
    }
   ],
   "source": [
    "import temperature as tp\n",
    "tp.convertF(tp.convertC(5))"
   ]
  },
  {
   "cell_type": "markdown",
   "metadata": {},
   "source": [
    "## Some elementary program and data structures"
   ]
  },
  {
   "cell_type": "markdown",
   "metadata": {},
   "source": [
    "### Variables"
   ]
  },
  {
   "cell_type": "markdown",
   "metadata": {},
   "source": [
    "Variables are simply introduced by the first use of their name, in assigning them a value. According to the assigned data type also the type of the variable is defined. Possible data types are, amongst others: \n",
    "- `int` - integer numbers\n",
    "- `float` - floating point numbers\n",
    "- `str` - sequence of characters (_Strings_)\n",
    "- `boolean` - logical values (_Booleans_), i.e. `True` and `False`"
   ]
  },
  {
   "cell_type": "code",
   "execution_count": 26,
   "metadata": {},
   "outputs": [],
   "source": [
    "width = 20\n",
    "length = 30\n",
    "area = length*width\n",
    "aspect = length/width"
   ]
  },
  {
   "cell_type": "code",
   "execution_count": 27,
   "metadata": {},
   "outputs": [
    {
     "name": "stdout",
     "output_type": "stream",
     "text": [
      "600 1.5\n"
     ]
    }
   ],
   "source": [
    "print(area, aspect)"
   ]
  },
  {
   "cell_type": "code",
   "execution_count": 28,
   "metadata": {},
   "outputs": [
    {
     "name": "stdout",
     "output_type": "stream",
     "text": [
      "The area amounts to 600 m²\n"
     ]
    }
   ],
   "source": [
    "print(\"The area amounts to\",area,\"m²\") # Exampel for formatted printing"
   ]
  },
  {
   "cell_type": "markdown",
   "metadata": {},
   "source": [
    "In Python variables are dynamically typed, i.e. they can assume different types one after the other, according to the sequence of assignments."
   ]
  },
  {
   "cell_type": "code",
   "execution_count": 29,
   "metadata": {},
   "outputs": [
    {
     "name": "stdout",
     "output_type": "stream",
     "text": [
      "lenght\n"
     ]
    }
   ],
   "source": [
    "width = \"lenght\" \n",
    "print(width) # now a string variable"
   ]
  },
  {
   "cell_type": "code",
   "execution_count": 30,
   "metadata": {},
   "outputs": [
    {
     "data": {
      "text/plain": [
       "str"
      ]
     },
     "execution_count": 30,
     "metadata": {},
     "output_type": "execute_result"
    }
   ],
   "source": [
    "type(width) # which type?"
   ]
  },
  {
   "cell_type": "code",
   "execution_count": 31,
   "metadata": {},
   "outputs": [
    {
     "ename": "NameError",
     "evalue": "name 'volume' is not defined",
     "output_type": "error",
     "traceback": [
      "\u001b[0;31m---------------------------------------------------------------------------\u001b[0m",
      "\u001b[0;31mNameError\u001b[0m                                 Traceback (most recent call last)",
      "\u001b[0;32m<ipython-input-31-6211527fe2c2>\u001b[0m in \u001b[0;36m<module>\u001b[0;34m\u001b[0m\n\u001b[0;32m----> 1\u001b[0;31m \u001b[0mvolume\u001b[0m\u001b[0;34m\u001b[0m\u001b[0;34m\u001b[0m\u001b[0m\n\u001b[0m",
      "\u001b[0;31mNameError\u001b[0m: name 'volume' is not defined"
     ]
    }
   ],
   "source": [
    "volume"
   ]
  },
  {
   "cell_type": "markdown",
   "metadata": {},
   "source": [
    "If you try to access the non-defined variable **volume**, an error is raised "
   ]
  },
  {
   "cell_type": "code",
   "execution_count": null,
   "metadata": {},
   "outputs": [],
   "source": [
    "depth = 10\n",
    "volume = area*depth\n",
    "volume"
   ]
  },
  {
   "cell_type": "markdown",
   "metadata": {},
   "source": [
    "Variables can have nearly arbitrary names (one rule is that they have to begin with a letter or with '_'). Excluded are the key words of Python:\n",
    "\n",
    "    and, as, assert, break, class, continue, def, del, elif, else, except, \n",
    "    exec, finally, for, from, global, if, import, in, is, lambda, not, or,\n",
    "    pass, print, raise, return, try, while, with, yield\n",
    "\n",
    "An error message will be created in that case:"
   ]
  },
  {
   "cell_type": "code",
   "execution_count": null,
   "metadata": {},
   "outputs": [],
   "source": [
    "break = \"kaputt\""
   ]
  },
  {
   "cell_type": "markdown",
   "metadata": {},
   "source": [
    "### Lists"
   ]
  },
  {
   "cell_type": "markdown",
   "metadata": {},
   "source": [
    " To keep together similar, especially non-numerical objects. For this purpose, Python offers the data type `list`."
   ]
  },
  {
   "cell_type": "code",
   "execution_count": 32,
   "metadata": {},
   "outputs": [],
   "source": [
    "days_of_the_week = [\"Sunday\",\"Monday\",\"Tuesday\",\"Wednesday\",\"Thursday\",\"Friday\",\"Saturday\"]"
   ]
  },
  {
   "cell_type": "markdown",
   "metadata": {},
   "source": [
    "With the index operator `[]` all elements can be addressed.\n",
    "\n",
    "**Important:** All indices in Python (also for numerical arrays) start always with 0!"
   ]
  },
  {
   "cell_type": "code",
   "execution_count": 33,
   "metadata": {},
   "outputs": [
    {
     "data": {
      "text/plain": [
       "'Tuesday'"
      ]
     },
     "execution_count": 33,
     "metadata": {},
     "output_type": "execute_result"
    }
   ],
   "source": [
    "days_of_the_week[2]"
   ]
  },
  {
   "cell_type": "markdown",
   "metadata": {},
   "source": [
    "The last element in a list/an arrays is addressed with index -1. Index -2 then denotes the second last etc."
   ]
  },
  {
   "cell_type": "code",
   "execution_count": 34,
   "metadata": {},
   "outputs": [
    {
     "data": {
      "text/plain": [
       "'Saturday'"
      ]
     },
     "execution_count": 34,
     "metadata": {},
     "output_type": "execute_result"
    }
   ],
   "source": [
    "days_of_the_week[-1]"
   ]
  },
  {
   "cell_type": "markdown",
   "metadata": {},
   "source": [
    "### <font color='red'>TASK</font>: Display the second last element in the list days_of_week!"
   ]
  },
  {
   "cell_type": "code",
   "execution_count": 36,
   "metadata": {},
   "outputs": [
    {
     "data": {
      "text/plain": [
       "'Friday'"
      ]
     },
     "execution_count": 36,
     "metadata": {},
     "output_type": "execute_result"
    }
   ],
   "source": [
    "days_of_the_week[-2]"
   ]
  },
  {
   "cell_type": "markdown",
   "metadata": {},
   "source": [
    "Lists offer many possibilities of manipulation, e.g. the attachment of new list elements:"
   ]
  },
  {
   "cell_type": "code",
   "execution_count": null,
   "metadata": {},
   "outputs": [],
   "source": [
    "languages = [\"Fortran\",\"C\",\"C++\"]\n",
    "languages.append(\"Python\")\n",
    "print(languages)"
   ]
  },
  {
   "cell_type": "markdown",
   "metadata": {},
   "source": [
    "With the command `range()` a list or **sequence of integer numbers** is generated:"
   ]
  },
  {
   "cell_type": "code",
   "execution_count": null,
   "metadata": {},
   "outputs": [],
   "source": [
    "list(range(10))"
   ]
  },
  {
   "cell_type": "markdown",
   "metadata": {},
   "source": [
    "Here a sequence from 2 to 7 ($[2, 8[$) will be displayed:"
   ]
  },
  {
   "cell_type": "code",
   "execution_count": null,
   "metadata": {},
   "outputs": [],
   "source": [
    "list(range(2,8))"
   ]
  },
  {
   "cell_type": "markdown",
   "metadata": {},
   "source": [
    "With a third value an increment can be defined: "
   ]
  },
  {
   "cell_type": "code",
   "execution_count": null,
   "metadata": {},
   "outputs": [],
   "source": [
    "evens = range(0,20,2)\n",
    "list(evens)"
   ]
  },
  {
   "cell_type": "code",
   "execution_count": null,
   "metadata": {},
   "outputs": [],
   "source": [
    "evens[1]"
   ]
  },
  {
   "cell_type": "code",
   "execution_count": null,
   "metadata": {},
   "outputs": [],
   "source": [
    "len(evens) # len() displays the number of list/array elements"
   ]
  },
  {
   "cell_type": "markdown",
   "metadata": {},
   "source": [
    "**Logical operations:** In addition to the data types for numbers, strings (character sequences like \"HelloWorld\") there are also logical (Boolean) operations. Their result is always `True`  or `False`. "
   ]
  },
  {
   "cell_type": "code",
   "execution_count": null,
   "metadata": {},
   "outputs": [],
   "source": [
    "50 == 2*25"
   ]
  },
  {
   "cell_type": "code",
   "execution_count": null,
   "metadata": {},
   "outputs": [],
   "source": [
    "1 <= 2 < 3"
   ]
  },
  {
   "cell_type": "markdown",
   "metadata": {},
   "source": [
    "You can compare all kinds of objects, e.g. lists"
   ]
  },
  {
   "cell_type": "code",
   "execution_count": null,
   "metadata": {},
   "outputs": [],
   "source": [
    "1 != 0 # unequal"
   ]
  },
  {
   "cell_type": "code",
   "execution_count": null,
   "metadata": {},
   "outputs": [],
   "source": [
    "[1,2,3] == [1,2,4]"
   ]
  },
  {
   "cell_type": "code",
   "execution_count": null,
   "metadata": {},
   "outputs": [],
   "source": [
    "[1,2,3] < [1,2,4] # True, if only one pair  ..<.."
   ]
  },
  {
   "cell_type": "code",
   "execution_count": null,
   "metadata": {},
   "outputs": [],
   "source": [
    "import numpy as np\n",
    "np.equal([1,2,3],[1,2,4]) # for element-wise comparison\n",
    "#np.less()       # <\n",
    "#np.greater()    # >\n",
    "#np.not_equal()  # !=\n",
    "#np.less_equal() # <=\n",
    "# ..."
   ]
  },
  {
   "cell_type": "markdown",
   "metadata": {},
   "source": [
    "### Blocks, loops and iterations"
   ]
  },
  {
   "cell_type": "markdown",
   "metadata": {},
   "source": [
    "A convenient way to create loops in Python is to iterate through a list (cp. `for()` loops in C or Java):"
   ]
  },
  {
   "cell_type": "code",
   "execution_count": null,
   "metadata": {},
   "outputs": [],
   "source": [
    "# 'day' is the iteration variable\n",
    "# days_of_the_week  is the list, over which is iterated\n",
    "\n",
    "for day in days_of_the_week:\n",
    "    print(day)\n",
    "    # here more code possible ..."
   ]
  },
  {
   "cell_type": "markdown",
   "metadata": {},
   "source": [
    "*Repetition*: The indented code (above) represents a contiguous block in Python. Hence, you don't need braces `{...}` like in other programming languages. The depth of indentation determines the affiliation of the code to a specific block (nesting possible)."
   ]
  },
  {
   "cell_type": "code",
   "execution_count": null,
   "metadata": {},
   "outputs": [],
   "source": [
    "for day in days_of_the_week:\n",
    "    statement = \"Today is \" + day\n",
    "    print(statement)"
   ]
  },
  {
   "cell_type": "markdown",
   "metadata": {},
   "source": [
    "A string (single character sequence, here \"Sunday\") is also considered as a list of letters:"
   ]
  },
  {
   "cell_type": "code",
   "execution_count": null,
   "metadata": {},
   "outputs": [],
   "source": [
    "for letter in \"Sunday\":\n",
    "    print(letter)"
   ]
  },
  {
   "cell_type": "markdown",
   "metadata": {},
   "source": [
    "For a definite number of loop iterations, an iterator list is created with the command `range()`:"
   ]
  },
  {
   "cell_type": "code",
   "execution_count": null,
   "metadata": {},
   "outputs": [],
   "source": [
    "for i in range(20): # range(20) creates values from 0 to 19\n",
    "    print(\"The square of \",i,\" is \",i*i)"
   ]
  },
  {
   "cell_type": "markdown",
   "metadata": {},
   "source": [
    "In this simple usage of the `print()` command all variables are interpreted as strings, and send to the output as a sequence. Every new call of`print()` creates a new line break."
   ]
  },
  {
   "cell_type": "markdown",
   "metadata": {},
   "source": [
    "## Branches (if - else)"
   ]
  },
  {
   "cell_type": "markdown",
   "metadata": {},
   "source": [
    "Branches in the program flow (alternatives) are possible using the **if - else:** construct like in other languages."
   ]
  },
  {
   "cell_type": "code",
   "execution_count": null,
   "metadata": {},
   "outputs": [],
   "source": [
    "day = days_of_the_week[0]\n",
    "print(day)"
   ]
  },
  {
   "cell_type": "code",
   "execution_count": null,
   "metadata": {},
   "outputs": [],
   "source": [
    "if day == \"Sunday\":\n",
    "    print(\"Sleep in\")   # case 1: first block\n",
    "else:\n",
    "    print(\"Go to work\") # otherwise: second block"
   ]
  },
  {
   "cell_type": "code",
   "execution_count": null,
   "metadata": {},
   "outputs": [],
   "source": [
    "for day in days_of_the_week:\n",
    "    statement = \"Today is \" + day  # block 1 (level 1)\n",
    "    print(statement)\n",
    "    if day == \"Sunday\":\n",
    "        print(\"   Sleep in\")       # block 2 (level 2)\n",
    "    elif day == \"Saturday\":\n",
    "        print(\"   Do chores\")      # block 3 (level 2)\n",
    "    else:\n",
    "        print(\"   Go to work\")     # block 4 (level 2)\n",
    "                                   # end block 1"
   ]
  },
  {
   "cell_type": "markdown",
   "metadata": {},
   "source": [
    "### <font color='red'>TASK</font> Create a list, which contains all numbers between 0 and 20 divisible by 2 und 3!\n",
    "Hint:\n",
    "Approach 1: use\n",
    "\n",
    "    a, b         # Name of lists for multiples of 2, 3\n",
    "    range(,,)    # to create the lists\n",
    "    c = []       # create empty list for resulting numbers\n",
    "    c.append(x)  # append element x at list end\n",
    "    for i in a:  # iterate with loops over the lists with multiples of 2 and 3\n",
    "    for i in b:\n",
    "    if i == j:   # if condition ... if element appears in both lists\n",
    "\n",
    "Approach 2: iterate over all numbers in the range and check divisibility with the operator % (Modulo)"
   ]
  },
  {
   "cell_type": "code",
   "execution_count": 37,
   "metadata": {},
   "outputs": [
    {
     "name": "stdout",
     "output_type": "stream",
     "text": [
      "[0, 6, 12, 18]\n"
     ]
    }
   ],
   "source": [
    "N = 20\n",
    "num = list()\n",
    "for i in range(N+1):\n",
    "    if i%6 == 0:\n",
    "        num.append(i)\n",
    "print(num)"
   ]
  },
  {
   "cell_type": "code",
   "execution_count": null,
   "metadata": {},
   "outputs": [],
   "source": [
    "a = range(,,)\n",
    "b = range(,,)\n",
    "c = []\n",
    "for i in a:\n",
    "    for j in b:\n",
    "        # code here ...\n",
    "print(c)"
   ]
  },
  {
   "cell_type": "code",
   "execution_count": null,
   "metadata": {},
   "outputs": [],
   "source": [
    "# A more elegant way: Set operations\n",
    "A = set(a) # convert array into a set (operations: .union, .intersection, .difference)\n",
    "B = set(b)\n",
    "C = A.intersection(B) # create intersection of sets\n",
    "print(C)"
   ]
  },
  {
   "cell_type": "code",
   "execution_count": 41,
   "metadata": {},
   "outputs": [
    {
     "data": {
      "text/plain": [
       "{6, 7, 8, 9, 10, 11, 12, 13, 14}"
      ]
     },
     "execution_count": 41,
     "metadata": {},
     "output_type": "execute_result"
    }
   ],
   "source": [
    "from copy import deepcopy\n",
    "a = set(range(15))\n",
    "b = set(range(6))\n",
    "a.difference(b)"
   ]
  },
  {
   "cell_type": "markdown",
   "metadata": {},
   "source": [
    "## Arrays in Numpy: Vectors and matrices\n",
    "\n",
    "The most important complex data type that we need.\n",
    "\n",
    "Matrices are two dimensional arrays, vectors have only one dimension. Both are represented by the data type `array`, which supports all possible matrix operations. \n",
    "\n",
    "- `[1, 2, 3]` is a list\n",
    "- `np.array([1,2,3])` is a one dimensional array\n",
    "\n",
    "The difference between both: the `np.array` type enables many numerical operations like matrix multiplication, that lists do not.\n",
    "\n",
    "> Note: There is also the type `matrix` in Numpy, where some operations specific to linear algebra have different meaning. As it seems that this type is deprecating, we will not use it and always use the (multidimensional) `ndarray` instead!"
   ]
  },
  {
   "cell_type": "code",
   "execution_count": 42,
   "metadata": {},
   "outputs": [],
   "source": [
    "import numpy as np\n",
    "a = np.array([1,2,3,4,5,6])"
   ]
  },
  {
   "cell_type": "markdown",
   "metadata": {},
   "source": [
    "With a second argument you can specify the number [type](https://docs.scipy.org/doc/numpy-1.14.0/user/basics.types.html), e.g. `d` for decimal number (default type: double = `float64`), `i` for integer number (default type on Windows: long = `int32` / on Linux: `int64`) or `D` für complex double precision numbers."
   ]
  },
  {
   "cell_type": "code",
   "execution_count": 46,
   "metadata": {},
   "outputs": [
    {
     "data": {
      "text/plain": [
       "numpy.float64"
      ]
     },
     "execution_count": 46,
     "metadata": {},
     "output_type": "execute_result"
    }
   ],
   "source": [
    "a = np.array([1,2,3,4,5,6],'d')\n",
    "#type(a)\n",
    "#type(a[0])\n"
   ]
  },
  {
   "cell_type": "code",
   "execution_count": 47,
   "metadata": {},
   "outputs": [
    {
     "data": {
      "text/plain": [
       "array([1, 2, 3, 4, 5, 6], dtype=int32)"
      ]
     },
     "execution_count": 47,
     "metadata": {},
     "output_type": "execute_result"
    }
   ],
   "source": [
    "np.array(a,'i') # convert to integer"
   ]
  },
  {
   "cell_type": "markdown",
   "metadata": {},
   "source": [
    "Matrices can be constructed as nested lists by hand:"
   ]
  },
  {
   "cell_type": "code",
   "execution_count": null,
   "metadata": {},
   "outputs": [],
   "source": [
    "np.array([[0,1,2],[3,4,5],[6,7,8]])"
   ]
  },
  {
   "cell_type": "markdown",
   "metadata": {},
   "source": [
    "or in a more clearly arranged fashion:"
   ]
  },
  {
   "cell_type": "code",
   "execution_count": null,
   "metadata": {},
   "outputs": [],
   "source": [
    "np.array([[0,1,2],\n",
    "          [3,4,5],\n",
    "          [6,7,8]])"
   ]
  },
  {
   "cell_type": "markdown",
   "metadata": {},
   "source": [
    "Even better: create templates with the commands `np.zeros((m,n))` rsp. `np.ones((m,n))`. Columns and rows are given as (m,n)"
   ]
  },
  {
   "cell_type": "code",
   "execution_count": null,
   "metadata": {},
   "outputs": [],
   "source": [
    "np.zeros((3,3)) # 3 x 3 matrix, containing zeros"
   ]
  },
  {
   "cell_type": "code",
   "execution_count": null,
   "metadata": {},
   "outputs": [],
   "source": [
    "np.ones((3,3))"
   ]
  },
  {
   "cell_type": "markdown",
   "metadata": {},
   "source": [
    "There is also a 'ready made' unity matrix $\\mathbf{I} = \\delta_{i j}$"
   ]
  },
  {
   "cell_type": "code",
   "execution_count": null,
   "metadata": {},
   "outputs": [],
   "source": [
    "np.identity(4)"
   ]
  },
  {
   "cell_type": "markdown",
   "metadata": {},
   "source": [
    "### Some elementary matrix operations\n",
    "\n",
    "Arrays and matrices can be multiplied with a scalar value and can be added/subtracted element-wise. Of course, this will only work if the dimensions need are identical:"
   ]
  },
  {
   "cell_type": "code",
   "execution_count": null,
   "metadata": {},
   "outputs": [],
   "source": [
    "A = np.identity(3,'d')\n",
    "B = np.ones((3,3),'d')\n",
    "0.5*A + 1.5*B"
   ]
  },
  {
   "cell_type": "markdown",
   "metadata": {},
   "source": [
    "**Element-wise multiplication** is executed using the operator *. This is different from MATLAB, where this operator represents matrix multiplication. "
   ]
  },
  {
   "cell_type": "code",
   "execution_count": null,
   "metadata": {},
   "outputs": [],
   "source": [
    "A*B"
   ]
  },
  {
   "cell_type": "markdown",
   "metadata": {},
   "source": [
    "**Matrix multiplication** ($element_{ij} = row_i \\cdot column_j$) is executed with the command `dot()` (dot product). "
   ]
  },
  {
   "cell_type": "code",
   "execution_count": null,
   "metadata": {},
   "outputs": [],
   "source": [
    "np.dot(A,B)\n",
    "#A.dot(B) # another syntax for the same"
   ]
  },
  {
   "cell_type": "markdown",
   "metadata": {},
   "source": [
    "For (n x 1) matrices = vectors this reults in the well-known scalar product:"
   ]
  },
  {
   "cell_type": "code",
   "execution_count": null,
   "metadata": {},
   "outputs": [],
   "source": [
    "v = np.array([1,1,0],'d')\n",
    "np.dot(v,v)"
   ]
  },
  {
   "cell_type": "code",
   "execution_count": null,
   "metadata": {},
   "outputs": [],
   "source": [
    "B@v # @ always enforces matrix multiplication, independent from the data type"
   ]
  },
  {
   "cell_type": "markdown",
   "metadata": {},
   "source": [
    "Furthermore, all necessary operations from linear algebra are implemented (in the submodule `linalg`), with the expected results, e.g.:\n",
    "\n",
    "**np.linalg.det()** $\\to$ determinant <br>\n",
    "**np.linalg.inv()** $\\to$ inverse <br>\n",
    "**transpose()** $\\to$ transpose <br>\n",
    "\n",
    "In the transpose rows and columns are exchanged, which can also be invoked by attaching \".T\" at the matrix name:"
   ]
  },
  {
   "cell_type": "code",
   "execution_count": null,
   "metadata": {},
   "outputs": [],
   "source": [
    "v.transpose() # no change for a 1D vector\n",
    "#v.T # a short form for the same command"
   ]
  },
  {
   "cell_type": "code",
   "execution_count": null,
   "metadata": {},
   "outputs": [],
   "source": [
    "m = np.array([[1,2],\n",
    "              [3,4]])\n",
    "m.T\n",
    "#m.transpose()"
   ]
  },
  {
   "cell_type": "markdown",
   "metadata": {},
   "source": [
    "Convert a list into a `numpy` compatible array"
   ]
  },
  {
   "cell_type": "code",
   "execution_count": null,
   "metadata": {},
   "outputs": [],
   "source": [
    "a = [1,2,3,4]   # a is a list (originally not intended for calculations ...)\n",
    "b = np.array(a) # b now is a numerical array\n",
    "\n",
    "2*a # operator (*) action in Python differs according to context: the list is just doubled\n",
    "#2*b"
   ]
  },
  {
   "cell_type": "code",
   "execution_count": null,
   "metadata": {},
   "outputs": [],
   "source": [
    "#b*b\n",
    "b@b"
   ]
  },
  {
   "cell_type": "markdown",
   "metadata": {},
   "source": [
    "### Create array templates\n",
    "\n",
    "`shape` defines the dimensions of (multi-dimensional) arrays: (m,n,...)\n",
    "\n",
    "    empty(shape)       # returns an empty (not initialized) array\n",
    "    ones(shape)        # returns an array filled with 1s\n",
    "    zeros(shape)       # returns an array filled with zeros\n",
    "    full(shape, value) # returns an array initialized with 'value'\n",
    "    identity(n)        # return the identity array with dimension nxn \n",
    "    eye(N,M,k)         # returns a 2D array of size M × N, with ones on the main diagonal\n",
    "                       #   or on a secondary diagonal shifted by k\n",
    "    \n",
    "    random.rand(shape) # returns a 2D array with random numbers equally distributed over [0,1]\n",
    "    \n",
    "    array(object)      # returns an array filled with existing data in object\n",
    "    zeros_like(A)      # returna n array filled with zeros with the same dimensions as A"
   ]
  },
  {
   "cell_type": "code",
   "execution_count": null,
   "metadata": {},
   "outputs": [],
   "source": [
    "np.eye(8,8,1)"
   ]
  },
  {
   "cell_type": "markdown",
   "metadata": {},
   "source": [
    "#### Commands to create vectors/1D-arrays\n",
    "\n",
    "```python\n",
    "    arange([start,] stop[, step,])           # creates a vector with entries ranging from start to stop\n",
    "    linspace(start, stop[, num, endp])       # creates a vector with equidistant entries\n",
    "    logspace(start, stop[, num, endp, base]) # creates a vector with logarithmically spaced entries\n",
    "```"
   ]
  },
  {
   "cell_type": "code",
   "execution_count": null,
   "metadata": {},
   "outputs": [],
   "source": [
    "np.linspace(0,1, 10)"
   ]
  },
  {
   "cell_type": "markdown",
   "metadata": {},
   "source": [
    "### <font color='red'>TASK</font> Volume of a parallelepiped (rhomboid)\n",
    "Determine the volume of the parallelepiped constituted by the vectors \n",
    "$\\vec{a} = (1, 0, 0)$, $\\vec{b} = (0, 1, 0)$ und $\\vec{c} = (1, 1, 1)$.\n",
    "<img src=\"./220px-Parallelepiped2.png\" width=\"300\">\n",
    "\n",
    "### Hint:\n",
    "Volume $V = \\vec{a} \\cdot(\\vec{b} \\times \\vec{c})$\n",
    "\n",
    "Use dot product, cross product - in NumPy: `np.cross()`"
   ]
  },
  {
   "cell_type": "code",
   "execution_count": 51,
   "metadata": {},
   "outputs": [
    {
     "data": {
      "text/plain": [
       "1"
      ]
     },
     "execution_count": 51,
     "metadata": {},
     "output_type": "execute_result"
    }
   ],
   "source": [
    "a = np.array([1, 0, 0])\n",
    "b = np.array([0, 1, 0])\n",
    "c = np.array([1, 1, 1])\n",
    "V = np.dot(a, np.cross(b, c))\n",
    "V"
   ]
  },
  {
   "cell_type": "markdown",
   "metadata": {},
   "source": [
    "### Manipulation of matrices"
   ]
  },
  {
   "cell_type": "code",
   "execution_count": 55,
   "metadata": {},
   "outputs": [],
   "source": [
    "import numpy as np\n",
    "import matplotlib.pyplot as plt # the plotting library\n",
    "\n",
    "# to generate a more beautiful plot window\n",
    "#%matplotlib notebook\n",
    "\n",
    "# default\n",
    "%matplotlib inline"
   ]
  },
  {
   "cell_type": "markdown",
   "metadata": {},
   "source": [
    "**Reshape**\n",
    "\n",
    "Using the commando `reshape(m,n)`  from multidimensional arrays matrices can be 'formed', resp. their dimensions can be changed:"
   ]
  },
  {
   "cell_type": "code",
   "execution_count": null,
   "metadata": {},
   "outputs": [],
   "source": [
    "a = np.arange(12)\n",
    "#a = np.arange(12).reshape(4,3)\n",
    "#a.reshape(4,3)\n",
    "a.reshape(2,6)"
   ]
  },
  {
   "cell_type": "code",
   "execution_count": null,
   "metadata": {},
   "outputs": [],
   "source": [
    "im1 = np.array([[0,0,1,0,0],\n",
    "                [0,0,1,0,0],\n",
    "                [0,0,1,0,0],\n",
    "                [0,0,1,0,0],\n",
    "                [0,0,1,0,0]])\n",
    "print(im1)"
   ]
  },
  {
   "cell_type": "markdown",
   "metadata": {},
   "source": [
    "The **slice operator** `:` as index means: choose all existing values in this row/column"
   ]
  },
  {
   "cell_type": "code",
   "execution_count": null,
   "metadata": {},
   "outputs": [],
   "source": [
    "im1 = np.zeros((5,5))\n",
    "im1[:,2] = 1 # setze alle Elemente mit y=2 auf den Wert 1 \n",
    "print(im1)"
   ]
  },
  {
   "cell_type": "markdown",
   "metadata": {},
   "source": [
    "To plot this matrix (and also other data) as pixel pattern we need the command `imshow()` (image show) from the plot module `matplotlib` (which we have imported before under the nickname `plt`) "
   ]
  },
  {
   "cell_type": "code",
   "execution_count": null,
   "metadata": {},
   "outputs": [],
   "source": [
    "plt.imshow(im1) # Jetzt wird das Array als Pixelmuster enstprechend der Werte geplottet\n",
    "plt.colorbar()  # das erzeugt eine Farbskala\n",
    "plt.show()"
   ]
  },
  {
   "cell_type": "code",
   "execution_count": null,
   "metadata": {},
   "outputs": [],
   "source": [
    "im1a = np.zeros((5,5))\n",
    "im1a[1:4,2] = 1 # set all elements from x=1 to x=3 and y=2 on the value 1 \n",
    "plt.imshow(im1a)\n",
    "plt.colorbar()\n",
    "plt.show()"
   ]
  },
  {
   "cell_type": "code",
   "execution_count": null,
   "metadata": {},
   "outputs": [],
   "source": [
    "im2 = im1.T # transposed of the first matrix - horizontal line\n",
    "plt.imshow(im2)\n",
    "plt.colorbar()\n",
    "plt.show()"
   ]
  },
  {
   "cell_type": "markdown",
   "metadata": {},
   "source": [
    "### <font color='red'>TASK</font> Create a (5x5) matrix consisting of an outer frame and filled inner pixel\n",
    "<img src=\"AufgabeRahmen.png\" width=\"100\"/>"
   ]
  },
  {
   "cell_type": "code",
   "execution_count": 137,
   "metadata": {
    "scrolled": true
   },
   "outputs": [],
   "source": [
    "def filled_square(out_len, mid_len, in_len, cent_point):\n",
    "    x, y = np.meshgrid(range(out_len), range(out_len))\n",
    "    dist_x = np.abs(x-cent_point[0])\n",
    "    dist_y = np.abs(y-cent_point[1])\n",
    "    mask_mid = np.logical_not(np.logical_and(dist_x <= mid_len/2, dist_y <= mid_len/2))\n",
    "    mask_in = np.logical_and(dist_x <= in_len/2, dist_y <= in_len/2)\n",
    "    mask = np.logical_or(mask_mid, mask_in)\n",
    "    plt.imshow(mask)\n",
    "    plt.show()"
   ]
  },
  {
   "cell_type": "code",
   "execution_count": 142,
   "metadata": {},
   "outputs": [
    {
     "data": {
      "image/png": "[encoded data removed]",
      "text/plain": [
       "<Figure size 432x288 with 1 Axes>"
      ]
     },
     "metadata": {
      "needs_background": "light"
     },
     "output_type": "display_data"
    }
   ],
   "source": [
    "filled_square(5, 3, 1, (2, 2))"
   ]
  },
  {
   "cell_type": "markdown",
   "metadata": {},
   "source": [
    "### <font color='red'>AUFGABE</font> Create a (8x8) checker board\n",
    "<img src=\"AufgabeSchachbrett.png\" width=\"100\"/>"
   ]
  },
  {
   "cell_type": "code",
   "execution_count": 78,
   "metadata": {},
   "outputs": [],
   "source": [
    "def checkerboard(resolution, unit_size):\n",
    "    if resolution % (2*unit_size) != 0:\n",
    "        raise ValueError(\"Resolution must be divided by 2*unit_size!\")\n",
    "    num_units = int(resolution / (2*unit_size))\n",
    "    white = np.ones([unit_size, unit_size])\n",
    "    black = np.zeros_like(white)\n",
    "    unit = np.hstack((black, white))\n",
    "    unit_rev = unit[:, ::-1]\n",
    "    unit_of_four = np.vstack((unit, unit_rev))\n",
    "    board = np.tile(unit_of_four, (num_units, num_units))\n",
    "    plt.imshow(board)\n",
    "    plt.show()"
   ]
  },
  {
   "cell_type": "code",
   "execution_count": 79,
   "metadata": {},
   "outputs": [
    {
     "data": {
      "image/png": "[encoded data removed]",
      "text/plain": [
       "<Figure size 432x288 with 1 Axes>"
      ]
     },
     "metadata": {
      "needs_background": "light"
     },
     "output_type": "display_data"
    }
   ],
   "source": [
    "checkerboard(16, 2)"
   ]
  },
  {
   "cell_type": "code",
   "execution_count": 86,
   "metadata": {},
   "outputs": [
    {
     "data": {
      "text/plain": [
       "array([[0. , 0.1, 0.2, 0.3, 0.4, 0.5, 0.6, 0.7, 0.8, 0.9, 1. ],\n",
       "       [0. , 0.1, 0.2, 0.3, 0.4, 0.5, 0.6, 0.7, 0.8, 0.9, 1. ],\n",
       "       [0. , 0.1, 0.2, 0.3, 0.4, 0.5, 0.6, 0.7, 0.8, 0.9, 1. ],\n",
       "       [0. , 0.1, 0.2, 0.3, 0.4, 0.5, 0.6, 0.7, 0.8, 0.9, 1. ],\n",
       "       [0. , 0.1, 0.2, 0.3, 0.4, 0.5, 0.6, 0.7, 0.8, 0.9, 1. ],\n",
       "       [0. , 0.1, 0.2, 0.3, 0.4, 0.5, 0.6, 0.7, 0.8, 0.9, 1. ],\n",
       "       [0. , 0.1, 0.2, 0.3, 0.4, 0.5, 0.6, 0.7, 0.8, 0.9, 1. ],\n",
       "       [0. , 0.1, 0.2, 0.3, 0.4, 0.5, 0.6, 0.7, 0.8, 0.9, 1. ],\n",
       "       [0. , 0.1, 0.2, 0.3, 0.4, 0.5, 0.6, 0.7, 0.8, 0.9, 1. ],\n",
       "       [0. , 0.1, 0.2, 0.3, 0.4, 0.5, 0.6, 0.7, 0.8, 0.9, 1. ],\n",
       "       [0. , 0.1, 0.2, 0.3, 0.4, 0.5, 0.6, 0.7, 0.8, 0.9, 1. ]])"
      ]
     },
     "execution_count": 86,
     "metadata": {},
     "output_type": "execute_result"
    }
   ],
   "source": [
    "a = np.linspace(0, 1, 11)\n",
    "x, y = np.meshgrid(a, a)\n",
    "x"
   ]
  },
  {
   "cell_type": "markdown",
   "metadata": {},
   "source": [
    "# More on graphics"
   ]
  },
  {
   "cell_type": "code",
   "execution_count": null,
   "metadata": {},
   "outputs": [],
   "source": [
    "%matplotlib notebook\n",
    "\n",
    "# PIL: Python Image Library, to open the .jpg file\n",
    "from PIL import Image\n",
    "\n",
    "# Loading an external image (here: 225 x 225 Pixel)\n",
    "filename = 'superM.jpg'\n",
    "image = Image.open(filename).convert(\"L\") # load and convert into gray scale image (convert(\"L\"))\n",
    "\n",
    "# convert into NumPy array\n",
    "arr = np.asarray(image)\n",
    "# now you can do calculations!\n",
    "arr2 = arr+arr*np.tanh((arr-100)/50)%256  # nonlinear gray scale change\n",
    "arr3 = (arr >= 100.0).astype(int) # create binary image with threshold level 100\n",
    "\n",
    "arr4 = (arr/100.0) # scale gray level 100 -> 1, then set values>1 to 1  and  add the values<1\n",
    "arr4 = np.greater(arr4,np.ones(np.shape(arr4))) + arr4*np.less_equal(arr4,np.ones(np.shape(arr4)))\n",
    "\n",
    "# Compare different versions by commenting out the line\n",
    "plt.imshow(arr, cmap='gray', vmin=0, vmax=255) # original image\n",
    "#plt.imshow(arr2, cmap='gray', vmin=0, vmax=255) # transformed image\n",
    "#plt.imshow(arr4, cmap='gray')\n",
    "plt.show()"
   ]
  },
  {
   "cell_type": "markdown",
   "metadata": {},
   "source": [
    "> Hint: Data as prepared in array `arr4` with a range of values from 0 to 1 could be used as input (initial frame) for a phase field simulation ... "
   ]
  },
  {
   "cell_type": "code",
   "execution_count": null,
   "metadata": {},
   "outputs": [],
   "source": [
    "arr4[100,:] # look into the array: the row no. 100"
   ]
  },
  {
   "cell_type": "code",
   "execution_count": null,
   "metadata": {},
   "outputs": [],
   "source": [
    "plt.plot(arr4[100]) # plot profile along a section (255 is gray scale value for white)\n",
    "plt.show()"
   ]
  },
  {
   "cell_type": "code",
   "execution_count": null,
   "metadata": {},
   "outputs": [],
   "source": []
  }
 ],
 "metadata": {
  "kernelspec": {
   "display_name": "Python 3",
   "language": "python",
   "name": "python3"
  },
  "language_info": {
   "codemirror_mode": {
    "name": "ipython",
    "version": 3
   },
   "file_extension": ".py",
   "mimetype": "text/x-python",
   "name": "python",
   "nbconvert_exporter": "python",
   "pygments_lexer": "ipython3",
   "version": "3.8.9"
  }
 },
 "nbformat": 4,
 "nbformat_minor": 2
}
